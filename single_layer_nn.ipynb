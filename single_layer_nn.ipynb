{
 "cells": [
  {
   "cell_type": "markdown",
   "id": "198d2f7e",
   "metadata": {
    "lines_to_next_cell": 2
   },
   "source": [
    "# Single Layer Neural Networks\n",
    "Implemented in pure python + numpy."
   ]
  },
  {
   "cell_type": "code",
   "execution_count": 1,
   "id": "b7e6a263",
   "metadata": {},
   "outputs": [],
   "source": [
    "import numpy as np\n",
    "import matplotlib.pyplot as plt\n",
    "from sklearn.model_selection import train_test_split\n",
    "from sklearn.datasets import load_iris"
   ]
  },
  {
   "cell_type": "code",
   "execution_count": 2,
   "id": "3a19bd78",
   "metadata": {},
   "outputs": [
    {
     "data": {
      "text/plain": [
       "(['sepal length (cm)',\n",
       "  'sepal width (cm)',\n",
       "  'petal length (cm)',\n",
       "  'petal width (cm)'],\n",
       " array(['setosa', 'versicolor', 'virginica'], dtype='<U10'))"
      ]
     },
     "execution_count": 2,
     "metadata": {},
     "output_type": "execute_result"
    }
   ],
   "source": [
    "# data loading\n",
    "data = load_iris()\n",
    "x = data.data\n",
    "x = (x - x.mean(axis=0)) / x.std(axis=0)\n",
    "y = data.target - 1\n",
    "data.feature_names, data.target_names"
   ]
  },
  {
   "cell_type": "code",
   "execution_count": 3,
   "id": "34fd2e47",
   "metadata": {
    "scrolled": true
   },
   "outputs": [
    {
     "data": {
      "image/png": "[encoded data removed]",
      "text/plain": [
       "<Figure size 432x288 with 1 Axes>"
      ]
     },
     "metadata": {
      "needs_background": "light"
     },
     "output_type": "display_data"
    }
   ],
   "source": [
    "# data visualization\n",
    "x_axis, y_axis = 0, 2\n",
    "plt.scatter(x[50:100, x_axis], x[50:100, y_axis], color=\"r\", label=data.target_names[1])\n",
    "plt.scatter(x[100:, x_axis], x[100:, y_axis], color=\"b\", label=data.target_names[2])\n",
    "plt.legend()\n",
    "plt.xlabel(data.feature_names[x_axis])\n",
    "plt.ylabel(data.feature_names[y_axis])\n",
    "plt.show()"
   ]
  },
  {
   "cell_type": "code",
   "execution_count": 4,
   "id": "06c93a78",
   "metadata": {},
   "outputs": [
    {
     "data": {
      "text/plain": [
       "((80, 4), (20, 4), (80,), (20,))"
      ]
     },
     "execution_count": 4,
     "metadata": {},
     "output_type": "execute_result"
    }
   ],
   "source": [
    "# data splitting\n",
    "x_train, x_test, y_train, y_test = train_test_split(\n",
    "    x[50:], y[50:], test_size=0.2, random_state=0\n",
    ")\n",
    "x_train.shape, x_test.shape, y_train.shape, y_test.shape"
   ]
  },
  {
   "cell_type": "code",
   "execution_count": 5,
   "id": "3c528d44",
   "metadata": {},
   "outputs": [],
   "source": [
    "def evaluator(y_test, y_pred):\n",
    "    conf_matrix = np.zeros((2, 2))\n",
    "    for testi, predi in zip(y_test, y_pred):\n",
    "        conf_matrix[testi][predi] += 1\n",
    "\n",
    "    tp = conf_matrix[0][0]\n",
    "    fp = conf_matrix[0][1]\n",
    "    fn = conf_matrix[1][0]\n",
    "    tn = conf_matrix[1][1]\n",
    "\n",
    "    print(\"Confusion matrix:\")\n",
    "    print(conf_matrix)\n",
    "\n",
    "    acc = (tp + tn) / (tp + tn + fp + fn)\n",
    "    print(f\"Accuracy: {acc}\")\n",
    "\n",
    "    prec = tp / (tp + fp)\n",
    "    print(f\"Precision: {prec}\")\n",
    "\n",
    "    rec = tp / (tp + fn)\n",
    "    print(f\"Recall: {rec}\")\n",
    "\n",
    "    f1 = 2 * ((prec * rec) / (prec + rec))\n",
    "    print(f\"F1 score: {f1}\")"
   ]
  },
  {
   "cell_type": "markdown",
   "id": "4e4a6b06",
   "metadata": {},
   "source": [
    "## Simple Feedback Learning (Perceptron)"
   ]
  },
  {
   "cell_type": "code",
   "execution_count": 6,
   "id": "29d82a53",
   "metadata": {},
   "outputs": [],
   "source": [
    "class Perceptron(object):\n",
    "    def __init__(self):\n",
    "        self.history = {}\n",
    "        self.history[\"train_acc\"] = []\n",
    "        self.history[\"test_acc\"] = []\n",
    "\n",
    "    def f(self, x):\n",
    "        # activation function (step function)\n",
    "        fx = np.where(x >= 0, 1, 0)\n",
    "        return fx\n",
    "\n",
    "    def train(self, x, y, x_test, y_test, learning_rate=0.1, epochs=10, verbose=True):\n",
    "        n_train, input_size = x.shape\n",
    "        n_test = x_test.shape[0]\n",
    "\n",
    "        # weight initialization\n",
    "        self.W = np.zeros(input_size)\n",
    "        self.b = np.zeros(1)\n",
    "\n",
    "        # training loop\n",
    "        for epoch in range(epochs):\n",
    "            for xi, yi in zip(x, y):\n",
    "                # feedforward\n",
    "                a = self.W @ xi.T - self.b\n",
    "                out = self.f(a)\n",
    "\n",
    "                # backward step (apply feedback to adjust weights)\n",
    "                if out > yi:\n",
    "                    self.W -= learning_rate * xi\n",
    "                    self.b += learning_rate\n",
    "                elif out < yi:\n",
    "                    self.W += learning_rate * xi\n",
    "                    self.b -= learning_rate\n",
    "\n",
    "            # calculate epoch performance\n",
    "            train_acc = (self.predict(x) == y).sum() / n_train\n",
    "            test_acc = (self.predict(x_test) == y_test).sum() / n_test\n",
    "            self.history[\"train_acc\"].append(train_acc)\n",
    "            self.history[\"test_acc\"].append(test_acc)\n",
    "            if verbose:\n",
    "                print(\n",
    "                    \"epoch %d, train acc %.4f, test acc %.4f\"\n",
    "                    % (epoch + 1, train_acc, test_acc)\n",
    "                )\n",
    "\n",
    "    def predict(self, x):\n",
    "        # feedforward and predict output using learned weights\n",
    "        a = x @ self.W - self.b\n",
    "        y_pred = self.f(a)\n",
    "        return y_pred"
   ]
  },
  {
   "cell_type": "code",
   "execution_count": 7,
   "id": "3e567f44",
   "metadata": {},
   "outputs": [
    {
     "name": "stdout",
     "output_type": "stream",
     "text": [
      "epoch 1, train acc 0.9750, test acc 0.9000\n",
      "epoch 2, train acc 0.9250, test acc 0.8000\n",
      "epoch 3, train acc 0.8750, test acc 0.7500\n",
      "epoch 4, train acc 0.9750, test acc 0.9500\n",
      "epoch 5, train acc 0.9125, test acc 0.7500\n",
      "epoch 6, train acc 0.9750, test acc 0.9000\n",
      "epoch 7, train acc 0.9625, test acc 0.9000\n",
      "epoch 8, train acc 0.9375, test acc 0.8000\n",
      "epoch 9, train acc 0.9625, test acc 0.9000\n",
      "epoch 10, train acc 0.9750, test acc 0.9000\n"
     ]
    },
    {
     "data": {
      "text/plain": [
       "(array([ 0.00019387, -0.00174029,  0.00497214,  0.00381207]), array([0.006]))"
      ]
     },
     "execution_count": 7,
     "metadata": {},
     "output_type": "execute_result"
    }
   ],
   "source": [
    "# train simple feedback perceptron model\n",
    "model1 = Perceptron()\n",
    "model1.train(\n",
    "    x_train, y_train, x_test, y_test, learning_rate=0.001, epochs=10, verbose=True\n",
    ")\n",
    "model1.W, model1.b"
   ]
  },
  {
   "cell_type": "code",
   "execution_count": 8,
   "id": "b6fde511",
   "metadata": {},
   "outputs": [
    {
     "data": {
      "image/png": "[encoded data removed]",
      "text/plain": [
       "<Figure size 432x288 with 1 Axes>"
      ]
     },
     "metadata": {
      "needs_background": "light"
     },
     "output_type": "display_data"
    }
   ],
   "source": [
    "# plot training history\n",
    "plt.plot(model1.history[\"train_acc\"], label=\"train_acc\")\n",
    "plt.plot(model1.history[\"test_acc\"], label=\"test_acc\")\n",
    "plt.legend()\n",
    "plt.show()"
   ]
  },
  {
   "cell_type": "code",
   "execution_count": 9,
   "id": "3830d2ef",
   "metadata": {},
   "outputs": [
    {
     "name": "stdout",
     "output_type": "stream",
     "text": [
      "Confusion matrix:\n",
      "[[ 8.  2.]\n",
      " [ 0. 10.]]\n",
      "Accuracy: 0.9\n",
      "Precision: 0.8\n",
      "Recall: 1.0\n",
      "F1 score: 0.888888888888889\n"
     ]
    }
   ],
   "source": [
    "# evaluate performance on test set\n",
    "y_pred = model1.predict(x_test)\n",
    "evaluator(y_test, y_pred)"
   ]
  },
  {
   "cell_type": "markdown",
   "id": "31320b71",
   "metadata": {},
   "source": [
    "## Error Correction Learning (Adaline)"
   ]
  },
  {
   "cell_type": "code",
   "execution_count": 10,
   "id": "409344f7",
   "metadata": {
    "scrolled": true
   },
   "outputs": [],
   "source": [
    "class Adaline(object):\n",
    "    def __init__(self):\n",
    "        self.history = {}\n",
    "        self.history[\"train_error\"] = []\n",
    "        self.history[\"train_acc\"] = []\n",
    "        self.history[\"test_acc\"] = []\n",
    "\n",
    "    def f(self, x):\n",
    "        # activation function (step function)\n",
    "        fx = np.where(x >= 0, 1, 0)\n",
    "        return fx\n",
    "\n",
    "    def train(self, x, y, x_test, y_test, learning_rate=0.1, epochs=10, verbose=True):\n",
    "        n_train, input_size = x.shape\n",
    "        n_test = x_test.shape[0]\n",
    "        self.W = np.zeros(input_size)\n",
    "        self.b = np.zeros(1)\n",
    "\n",
    "        for epoch in range(epochs):\n",
    "            error = 0.0\n",
    "            for xi, yi in zip(x, y):\n",
    "                # feedforward\n",
    "                a = self.W @ xi.T - self.b\n",
    "                out = self.f(a)\n",
    "\n",
    "                # backward step (adjust weights using squared error)\n",
    "                e = out - yi\n",
    "                err = e ** 2\n",
    "                self.W -= learning_rate * 2 * e * xi\n",
    "                self.b += learning_rate * 2 * e\n",
    "\n",
    "                error += np.abs(err)\n",
    "\n",
    "            # calculate epoch metrics\n",
    "            self.history[\"train_error\"].append(error)\n",
    "            train_acc = (self.predict(x) == y).sum() / n_train\n",
    "            test_acc = (self.predict(x_test) == y_test).sum() / n_test\n",
    "            self.history[\"train_acc\"].append(train_acc)\n",
    "            self.history[\"test_acc\"].append(test_acc)\n",
    "            if verbose:\n",
    "                print(\n",
    "                    \"epoch %d, train error %.4f, train acc %.4f, test acc %.4f\"\n",
    "                    % (epoch + 1, error, train_acc, test_acc)\n",
    "                )\n",
    "\n",
    "    def predict(self, x):\n",
    "        # predict using learned weights\n",
    "        a = x @ self.W - self.b\n",
    "        y_pred = self.f(a)\n",
    "        return y_pred"
   ]
  },
  {
   "cell_type": "code",
   "execution_count": 11,
   "id": "bdbff605",
   "metadata": {},
   "outputs": [
    {
     "name": "stdout",
     "output_type": "stream",
     "text": [
      "epoch 1, train error 12.0000, train acc 0.9750, test acc 0.9000\n",
      "epoch 2, train error 9.0000, train acc 0.9250, test acc 0.8000\n",
      "epoch 3, train error 6.0000, train acc 0.8750, test acc 0.7500\n",
      "epoch 4, train error 7.0000, train acc 0.9750, test acc 0.9500\n",
      "epoch 5, train error 6.0000, train acc 0.9125, test acc 0.7500\n",
      "epoch 6, train error 7.0000, train acc 0.9750, test acc 0.9000\n",
      "epoch 7, train error 4.0000, train acc 0.9625, test acc 0.9000\n",
      "epoch 8, train error 4.0000, train acc 0.9375, test acc 0.8000\n",
      "epoch 9, train error 2.0000, train acc 0.9625, test acc 0.9000\n",
      "epoch 10, train error 3.0000, train acc 0.9750, test acc 0.9000\n"
     ]
    },
    {
     "data": {
      "text/plain": [
       "(array([ 0.00387737, -0.03480575,  0.09944276,  0.07624136]), array([0.12]))"
      ]
     },
     "execution_count": 11,
     "metadata": {},
     "output_type": "execute_result"
    }
   ],
   "source": [
    "# train Adaline model\n",
    "model2 = Adaline()\n",
    "model2.train(\n",
    "    x_train, y_train, x_test, y_test, learning_rate=0.01, epochs=10, verbose=True\n",
    ")\n",
    "model2.W, model2.b"
   ]
  },
  {
   "cell_type": "code",
   "execution_count": 12,
   "id": "98a67c2a",
   "metadata": {},
   "outputs": [
    {
     "data": {
      "image/png": "[encoded data removed]",
      "text/plain": [
       "<Figure size 432x288 with 1 Axes>"
      ]
     },
     "metadata": {
      "needs_background": "light"
     },
     "output_type": "display_data"
    }
   ],
   "source": [
    "# plot training history\n",
    "plt.plot(model2.history[\"train_acc\"], label=\"train_acc\")\n",
    "plt.plot(model2.history[\"test_acc\"], label=\"test_acc\")\n",
    "plt.legend()\n",
    "plt.show()"
   ]
  },
  {
   "cell_type": "code",
   "execution_count": 13,
   "id": "d28b8a27",
   "metadata": {},
   "outputs": [
    {
     "name": "stdout",
     "output_type": "stream",
     "text": [
      "Confusion matrix:\n",
      "[[ 8.  2.]\n",
      " [ 0. 10.]]\n",
      "Accuracy: 0.9\n",
      "Precision: 0.8\n",
      "Recall: 1.0\n",
      "F1 score: 0.888888888888889\n"
     ]
    }
   ],
   "source": [
    "# evaluate performance on the test set\n",
    "y_pred = model2.predict(x_test)\n",
    "evaluator(y_test, y_pred)"
   ]
  }
 ],
 "metadata": {
  "accelerator": "GPU",
  "colab": {
   "collapsed_sections": [],
   "name": "A1.ipynb",
   "provenance": []
  },
  "jupytext": {
   "formats": "ipynb,py:percent"
  },
  "kernelspec": {
   "display_name": "llnn",
   "language": "python",
   "name": "llnn"
  },
  "language_info": {
   "codemirror_mode": {
    "name": "ipython",
    "version": 3
   },
   "file_extension": ".py",
   "mimetype": "text/x-python",
   "name": "python",
   "nbconvert_exporter": "python",
   "pygments_lexer": "ipython3",
   "version": "3.9.9"
  }
 },
 "nbformat": 4,
 "nbformat_minor": 5
}
